{
 "cells": [
  {
   "cell_type": "code",
   "execution_count": 2,
   "id": "056b7a6e-efbd-4c0a-a797-0a283e6b6555",
   "metadata": {},
   "outputs": [],
   "source": [
    "# Importing pandas as pd and numpy as np\n",
    "\n",
    "import pandas as pd\n",
    "import numpy as np"
   ]
  },
  {
   "cell_type": "code",
   "execution_count": 3,
   "id": "3e9437fa-663d-4928-9a1c-c8de614aef8b",
   "metadata": {},
   "outputs": [],
   "source": [
    "# Loading the dataset into a pandas DataFrame\n",
    "\n",
    "df = pd.read_csv(\"bank_churn_data.csv\")"
   ]
  },
  {
   "cell_type": "code",
   "execution_count": 4,
   "id": "e520e989-ada1-475d-813e-4a205797ef79",
   "metadata": {},
   "outputs": [
    {
     "data": {
      "text/html": [
       "<div>\n",
       "<style scoped>\n",
       "    .dataframe tbody tr th:only-of-type {\n",
       "        vertical-align: middle;\n",
       "    }\n",
       "\n",
       "    .dataframe tbody tr th {\n",
       "        vertical-align: top;\n",
       "    }\n",
       "\n",
       "    .dataframe thead th {\n",
       "        text-align: right;\n",
       "    }\n",
       "</style>\n",
       "<table border=\"1\" class=\"dataframe\">\n",
       "  <thead>\n",
       "    <tr style=\"text-align: right;\">\n",
       "      <th></th>\n",
       "      <th>RowNumber</th>\n",
       "      <th>CustomerId</th>\n",
       "      <th>Surname</th>\n",
       "      <th>CreditScore</th>\n",
       "      <th>Geography</th>\n",
       "      <th>Gender</th>\n",
       "      <th>Age</th>\n",
       "      <th>Tenure</th>\n",
       "      <th>Balance</th>\n",
       "      <th>NumOfProducts</th>\n",
       "      <th>HasCrCard</th>\n",
       "      <th>IsActiveMember</th>\n",
       "      <th>EstimatedSalary</th>\n",
       "      <th>Exited</th>\n",
       "    </tr>\n",
       "  </thead>\n",
       "  <tbody>\n",
       "    <tr>\n",
       "      <th>0</th>\n",
       "      <td>1</td>\n",
       "      <td>15634602</td>\n",
       "      <td>Hargrave</td>\n",
       "      <td>619</td>\n",
       "      <td>France</td>\n",
       "      <td>Female</td>\n",
       "      <td>42.0</td>\n",
       "      <td>2</td>\n",
       "      <td>0.00</td>\n",
       "      <td>1</td>\n",
       "      <td>1.0</td>\n",
       "      <td>1.0</td>\n",
       "      <td>101348.88</td>\n",
       "      <td>1</td>\n",
       "    </tr>\n",
       "    <tr>\n",
       "      <th>1</th>\n",
       "      <td>2</td>\n",
       "      <td>15647311</td>\n",
       "      <td>Hill</td>\n",
       "      <td>608</td>\n",
       "      <td>Spain</td>\n",
       "      <td>Female</td>\n",
       "      <td>41.0</td>\n",
       "      <td>1</td>\n",
       "      <td>83807.86</td>\n",
       "      <td>1</td>\n",
       "      <td>0.0</td>\n",
       "      <td>1.0</td>\n",
       "      <td>112542.58</td>\n",
       "      <td>0</td>\n",
       "    </tr>\n",
       "    <tr>\n",
       "      <th>2</th>\n",
       "      <td>3</td>\n",
       "      <td>15619304</td>\n",
       "      <td>Onio</td>\n",
       "      <td>502</td>\n",
       "      <td>France</td>\n",
       "      <td>Female</td>\n",
       "      <td>42.0</td>\n",
       "      <td>8</td>\n",
       "      <td>159660.80</td>\n",
       "      <td>3</td>\n",
       "      <td>1.0</td>\n",
       "      <td>0.0</td>\n",
       "      <td>113931.57</td>\n",
       "      <td>1</td>\n",
       "    </tr>\n",
       "    <tr>\n",
       "      <th>3</th>\n",
       "      <td>4</td>\n",
       "      <td>15701354</td>\n",
       "      <td>Boni</td>\n",
       "      <td>699</td>\n",
       "      <td>France</td>\n",
       "      <td>Female</td>\n",
       "      <td>39.0</td>\n",
       "      <td>1</td>\n",
       "      <td>0.00</td>\n",
       "      <td>2</td>\n",
       "      <td>0.0</td>\n",
       "      <td>0.0</td>\n",
       "      <td>93826.63</td>\n",
       "      <td>0</td>\n",
       "    </tr>\n",
       "    <tr>\n",
       "      <th>4</th>\n",
       "      <td>5</td>\n",
       "      <td>15737888</td>\n",
       "      <td>Mitchell</td>\n",
       "      <td>850</td>\n",
       "      <td>Spain</td>\n",
       "      <td>Female</td>\n",
       "      <td>43.0</td>\n",
       "      <td>2</td>\n",
       "      <td>125510.82</td>\n",
       "      <td>1</td>\n",
       "      <td>NaN</td>\n",
       "      <td>1.0</td>\n",
       "      <td>79084.10</td>\n",
       "      <td>0</td>\n",
       "    </tr>\n",
       "  </tbody>\n",
       "</table>\n",
       "</div>"
      ],
      "text/plain": [
       "   RowNumber  CustomerId   Surname  CreditScore Geography  Gender   Age  \\\n",
       "0          1    15634602  Hargrave          619    France  Female  42.0   \n",
       "1          2    15647311      Hill          608     Spain  Female  41.0   \n",
       "2          3    15619304      Onio          502    France  Female  42.0   \n",
       "3          4    15701354      Boni          699    France  Female  39.0   \n",
       "4          5    15737888  Mitchell          850     Spain  Female  43.0   \n",
       "\n",
       "   Tenure    Balance  NumOfProducts  HasCrCard  IsActiveMember  \\\n",
       "0       2       0.00              1        1.0             1.0   \n",
       "1       1   83807.86              1        0.0             1.0   \n",
       "2       8  159660.80              3        1.0             0.0   \n",
       "3       1       0.00              2        0.0             0.0   \n",
       "4       2  125510.82              1        NaN             1.0   \n",
       "\n",
       "   EstimatedSalary  Exited  \n",
       "0        101348.88       1  \n",
       "1        112542.58       0  \n",
       "2        113931.57       1  \n",
       "3         93826.63       0  \n",
       "4         79084.10       0  "
      ]
     },
     "execution_count": 4,
     "metadata": {},
     "output_type": "execute_result"
    }
   ],
   "source": [
    "# Displaying the first row of the dataset\n",
    "\n",
    "df.head(5)"
   ]
  },
  {
   "cell_type": "code",
   "execution_count": 6,
   "id": "77d4067e-494b-4522-b603-dedba36e4bbe",
   "metadata": {},
   "outputs": [
    {
     "name": "stdout",
     "output_type": "stream",
     "text": [
      "<class 'pandas.core.frame.DataFrame'>\n",
      "RangeIndex: 10002 entries, 0 to 10001\n",
      "Data columns (total 14 columns):\n",
      " #   Column           Non-Null Count  Dtype  \n",
      "---  ------           --------------  -----  \n",
      " 0   RowNumber        10002 non-null  int64  \n",
      " 1   CustomerId       10002 non-null  int64  \n",
      " 2   Surname          10002 non-null  object \n",
      " 3   CreditScore      10002 non-null  int64  \n",
      " 4   Geography        10001 non-null  object \n",
      " 5   Gender           10002 non-null  object \n",
      " 6   Age              10001 non-null  float64\n",
      " 7   Tenure           10002 non-null  int64  \n",
      " 8   Balance          10002 non-null  float64\n",
      " 9   NumOfProducts    10002 non-null  int64  \n",
      " 10  HasCrCard        10001 non-null  float64\n",
      " 11  IsActiveMember   10001 non-null  float64\n",
      " 12  EstimatedSalary  10002 non-null  float64\n",
      " 13  Exited           10002 non-null  int64  \n",
      "dtypes: float64(5), int64(6), object(3)\n",
      "memory usage: 1.1+ MB\n"
     ]
    }
   ],
   "source": [
    "# Checking the information related to dataset\n",
    "\n",
    "df.info()"
   ]
  },
  {
   "cell_type": "code",
   "execution_count": 7,
   "id": "15378ed1-b3cb-4eb4-baa3-112785fa89c7",
   "metadata": {},
   "outputs": [
    {
     "data": {
      "text/plain": [
       "<bound method NDFrame.describe of        RowNumber  CustomerId    Surname  CreditScore Geography  Gender   Age  \\\n",
       "0              1    15634602   Hargrave          619    France  Female  42.0   \n",
       "1              2    15647311       Hill          608     Spain  Female  41.0   \n",
       "2              3    15619304       Onio          502    France  Female  42.0   \n",
       "3              4    15701354       Boni          699    France  Female  39.0   \n",
       "4              5    15737888   Mitchell          850     Spain  Female  43.0   \n",
       "...          ...         ...        ...          ...       ...     ...   ...   \n",
       "9997        9998    15584532        Liu          709    France  Female  36.0   \n",
       "9998        9999    15682355  Sabbatini          772   Germany    Male  42.0   \n",
       "9999        9999    15682355  Sabbatini          772   Germany    Male  42.0   \n",
       "10000      10000    15628319     Walker          792    France  Female  28.0   \n",
       "10001      10000    15628319     Walker          792    France  Female  28.0   \n",
       "\n",
       "       Tenure    Balance  NumOfProducts  HasCrCard  IsActiveMember  \\\n",
       "0           2       0.00              1        1.0             1.0   \n",
       "1           1   83807.86              1        0.0             1.0   \n",
       "2           8  159660.80              3        1.0             0.0   \n",
       "3           1       0.00              2        0.0             0.0   \n",
       "4           2  125510.82              1        NaN             1.0   \n",
       "...       ...        ...            ...        ...             ...   \n",
       "9997        7       0.00              1        0.0             1.0   \n",
       "9998        3   75075.31              2        1.0             0.0   \n",
       "9999        3   75075.31              2        1.0             0.0   \n",
       "10000       4  130142.79              1        1.0             0.0   \n",
       "10001       4  130142.79              1        1.0             0.0   \n",
       "\n",
       "       EstimatedSalary  Exited  \n",
       "0            101348.88       1  \n",
       "1            112542.58       0  \n",
       "2            113931.57       1  \n",
       "3             93826.63       0  \n",
       "4             79084.10       0  \n",
       "...                ...     ...  \n",
       "9997          42085.58       1  \n",
       "9998          92888.52       1  \n",
       "9999          92888.52       1  \n",
       "10000         38190.78       0  \n",
       "10001         38190.78       0  \n",
       "\n",
       "[10002 rows x 14 columns]>"
      ]
     },
     "execution_count": 7,
     "metadata": {},
     "output_type": "execute_result"
    }
   ],
   "source": [
    "# Describing the dataset\n",
    "\n",
    "df.describe"
   ]
  },
  {
   "cell_type": "code",
   "execution_count": 8,
   "id": "f3c7d088-7514-4cc3-8500-2165dca9ea26",
   "metadata": {},
   "outputs": [
    {
     "data": {
      "text/plain": [
       "(10002, 14)"
      ]
     },
     "execution_count": 8,
     "metadata": {},
     "output_type": "execute_result"
    }
   ],
   "source": [
    "# Checking number of rows and columns\n",
    "\n",
    "df.shape"
   ]
  },
  {
   "cell_type": "code",
   "execution_count": 9,
   "id": "dd7047bb-c332-47df-bc50-b5ace0408452",
   "metadata": {},
   "outputs": [
    {
     "data": {
      "text/html": [
       "<div>\n",
       "<style scoped>\n",
       "    .dataframe tbody tr th:only-of-type {\n",
       "        vertical-align: middle;\n",
       "    }\n",
       "\n",
       "    .dataframe tbody tr th {\n",
       "        vertical-align: top;\n",
       "    }\n",
       "\n",
       "    .dataframe thead th {\n",
       "        text-align: right;\n",
       "    }\n",
       "</style>\n",
       "<table border=\"1\" class=\"dataframe\">\n",
       "  <thead>\n",
       "    <tr style=\"text-align: right;\">\n",
       "      <th></th>\n",
       "      <th>RowNumber</th>\n",
       "      <th>CustomerId</th>\n",
       "      <th>Surname</th>\n",
       "      <th>CreditScore</th>\n",
       "      <th>Geography</th>\n",
       "      <th>Gender</th>\n",
       "      <th>Age</th>\n",
       "      <th>Tenure</th>\n",
       "      <th>Balance</th>\n",
       "      <th>NumOfProducts</th>\n",
       "      <th>HasCrCard</th>\n",
       "      <th>IsActiveMember</th>\n",
       "      <th>EstimatedSalary</th>\n",
       "      <th>Exited</th>\n",
       "    </tr>\n",
       "  </thead>\n",
       "  <tbody>\n",
       "    <tr>\n",
       "      <th>9997</th>\n",
       "      <td>9998</td>\n",
       "      <td>15584532</td>\n",
       "      <td>Liu</td>\n",
       "      <td>709</td>\n",
       "      <td>France</td>\n",
       "      <td>Female</td>\n",
       "      <td>36.0</td>\n",
       "      <td>7</td>\n",
       "      <td>0.00</td>\n",
       "      <td>1</td>\n",
       "      <td>0.0</td>\n",
       "      <td>1.0</td>\n",
       "      <td>42085.58</td>\n",
       "      <td>1</td>\n",
       "    </tr>\n",
       "    <tr>\n",
       "      <th>9998</th>\n",
       "      <td>9999</td>\n",
       "      <td>15682355</td>\n",
       "      <td>Sabbatini</td>\n",
       "      <td>772</td>\n",
       "      <td>Germany</td>\n",
       "      <td>Male</td>\n",
       "      <td>42.0</td>\n",
       "      <td>3</td>\n",
       "      <td>75075.31</td>\n",
       "      <td>2</td>\n",
       "      <td>1.0</td>\n",
       "      <td>0.0</td>\n",
       "      <td>92888.52</td>\n",
       "      <td>1</td>\n",
       "    </tr>\n",
       "    <tr>\n",
       "      <th>9999</th>\n",
       "      <td>9999</td>\n",
       "      <td>15682355</td>\n",
       "      <td>Sabbatini</td>\n",
       "      <td>772</td>\n",
       "      <td>Germany</td>\n",
       "      <td>Male</td>\n",
       "      <td>42.0</td>\n",
       "      <td>3</td>\n",
       "      <td>75075.31</td>\n",
       "      <td>2</td>\n",
       "      <td>1.0</td>\n",
       "      <td>0.0</td>\n",
       "      <td>92888.52</td>\n",
       "      <td>1</td>\n",
       "    </tr>\n",
       "    <tr>\n",
       "      <th>10000</th>\n",
       "      <td>10000</td>\n",
       "      <td>15628319</td>\n",
       "      <td>Walker</td>\n",
       "      <td>792</td>\n",
       "      <td>France</td>\n",
       "      <td>Female</td>\n",
       "      <td>28.0</td>\n",
       "      <td>4</td>\n",
       "      <td>130142.79</td>\n",
       "      <td>1</td>\n",
       "      <td>1.0</td>\n",
       "      <td>0.0</td>\n",
       "      <td>38190.78</td>\n",
       "      <td>0</td>\n",
       "    </tr>\n",
       "    <tr>\n",
       "      <th>10001</th>\n",
       "      <td>10000</td>\n",
       "      <td>15628319</td>\n",
       "      <td>Walker</td>\n",
       "      <td>792</td>\n",
       "      <td>France</td>\n",
       "      <td>Female</td>\n",
       "      <td>28.0</td>\n",
       "      <td>4</td>\n",
       "      <td>130142.79</td>\n",
       "      <td>1</td>\n",
       "      <td>1.0</td>\n",
       "      <td>0.0</td>\n",
       "      <td>38190.78</td>\n",
       "      <td>0</td>\n",
       "    </tr>\n",
       "  </tbody>\n",
       "</table>\n",
       "</div>"
      ],
      "text/plain": [
       "       RowNumber  CustomerId    Surname  CreditScore Geography  Gender   Age  \\\n",
       "9997        9998    15584532        Liu          709    France  Female  36.0   \n",
       "9998        9999    15682355  Sabbatini          772   Germany    Male  42.0   \n",
       "9999        9999    15682355  Sabbatini          772   Germany    Male  42.0   \n",
       "10000      10000    15628319     Walker          792    France  Female  28.0   \n",
       "10001      10000    15628319     Walker          792    France  Female  28.0   \n",
       "\n",
       "       Tenure    Balance  NumOfProducts  HasCrCard  IsActiveMember  \\\n",
       "9997        7       0.00              1        0.0             1.0   \n",
       "9998        3   75075.31              2        1.0             0.0   \n",
       "9999        3   75075.31              2        1.0             0.0   \n",
       "10000       4  130142.79              1        1.0             0.0   \n",
       "10001       4  130142.79              1        1.0             0.0   \n",
       "\n",
       "       EstimatedSalary  Exited  \n",
       "9997          42085.58       1  \n",
       "9998          92888.52       1  \n",
       "9999          92888.52       1  \n",
       "10000         38190.78       0  \n",
       "10001         38190.78       0  "
      ]
     },
     "execution_count": 9,
     "metadata": {},
     "output_type": "execute_result"
    }
   ],
   "source": [
    "# Displaying the last five rows of the dataset\n",
    "\n",
    "df.tail()"
   ]
  },
  {
   "cell_type": "code",
   "execution_count": 11,
   "id": "0020f2ef-1091-40da-a725-849f03b9128d",
   "metadata": {},
   "outputs": [
    {
     "data": {
      "text/plain": [
       "0    7964\n",
       "1    2038\n",
       "Name: Exited, dtype: int64"
      ]
     },
     "execution_count": 11,
     "metadata": {},
     "output_type": "execute_result"
    }
   ],
   "source": [
    "# Counting the value of having chances of Exited\n",
    "\n",
    "df[\"Exited\"].value_counts()"
   ]
  },
  {
   "cell_type": "code",
   "execution_count": 10,
   "id": "ebe22e88-fbc0-4297-b500-f538faa9a02b",
   "metadata": {},
   "outputs": [
    {
     "data": {
      "text/plain": [
       "RowNumber          0\n",
       "CustomerId         0\n",
       "Surname            0\n",
       "CreditScore        0\n",
       "Geography          1\n",
       "Gender             0\n",
       "Age                1\n",
       "Tenure             0\n",
       "Balance            0\n",
       "NumOfProducts      0\n",
       "HasCrCard          1\n",
       "IsActiveMember     1\n",
       "EstimatedSalary    0\n",
       "Exited             0\n",
       "dtype: int64"
      ]
     },
     "execution_count": 10,
     "metadata": {},
     "output_type": "execute_result"
    }
   ],
   "source": [
    "# Step:1 Checking NaN values\n",
    "\n",
    "df.isna().sum()"
   ]
  },
  {
   "cell_type": "code",
   "execution_count": 12,
   "id": "069e0bd5-ca03-4f6b-9bc4-8ceae222f50f",
   "metadata": {},
   "outputs": [],
   "source": [
    "# We know that if there are NaN values in the dataset that we can drop the 5% of data. \n",
    "# But if NaN values are more that 5% of total dataset then we can't drop it.\n",
    "# So we can drop Geography, Age, HasCrCard, IsActiveMember because there is only 1 NaN value in these columns."
   ]
  },
  {
   "cell_type": "code",
   "execution_count": 13,
   "id": "d9b7ddc5-49d0-4c81-b487-852d6eafea09",
   "metadata": {},
   "outputs": [],
   "source": [
    "# Let's drop the columns\n",
    "\n",
    "df = df.dropna(subset=[\"Geography\"])\n",
    "df = df.dropna(subset=[\"Age\"])\n",
    "df = df.dropna(subset=[\"HasCrCard\"])\n",
    "df = df.dropna(subset=[\"IsActiveMember\"])"
   ]
  },
  {
   "cell_type": "code",
   "execution_count": 14,
   "id": "98cefb08-3037-4363-95fa-7981930b8c05",
   "metadata": {},
   "outputs": [
    {
     "data": {
      "text/plain": [
       "RowNumber          0\n",
       "CustomerId         0\n",
       "Surname            0\n",
       "CreditScore        0\n",
       "Geography          0\n",
       "Gender             0\n",
       "Age                0\n",
       "Tenure             0\n",
       "Balance            0\n",
       "NumOfProducts      0\n",
       "HasCrCard          0\n",
       "IsActiveMember     0\n",
       "EstimatedSalary    0\n",
       "Exited             0\n",
       "dtype: int64"
      ]
     },
     "execution_count": 14,
     "metadata": {},
     "output_type": "execute_result"
    }
   ],
   "source": [
    "df.isna().sum()"
   ]
  },
  {
   "cell_type": "code",
   "execution_count": 15,
   "id": "b372d239-54ca-4e67-9a3a-921e6d21fcb2",
   "metadata": {},
   "outputs": [
    {
     "data": {
      "text/html": [
       "<div>\n",
       "<style scoped>\n",
       "    .dataframe tbody tr th:only-of-type {\n",
       "        vertical-align: middle;\n",
       "    }\n",
       "\n",
       "    .dataframe tbody tr th {\n",
       "        vertical-align: top;\n",
       "    }\n",
       "\n",
       "    .dataframe thead th {\n",
       "        text-align: right;\n",
       "    }\n",
       "</style>\n",
       "<table border=\"1\" class=\"dataframe\">\n",
       "  <thead>\n",
       "    <tr style=\"text-align: right;\">\n",
       "      <th></th>\n",
       "      <th>RowNumber</th>\n",
       "      <th>CustomerId</th>\n",
       "      <th>Surname</th>\n",
       "      <th>CreditScore</th>\n",
       "      <th>Geography</th>\n",
       "      <th>Gender</th>\n",
       "      <th>Age</th>\n",
       "      <th>Tenure</th>\n",
       "      <th>Balance</th>\n",
       "      <th>NumOfProducts</th>\n",
       "      <th>HasCrCard</th>\n",
       "      <th>IsActiveMember</th>\n",
       "      <th>EstimatedSalary</th>\n",
       "      <th>Exited</th>\n",
       "    </tr>\n",
       "  </thead>\n",
       "  <tbody>\n",
       "    <tr>\n",
       "      <th>0</th>\n",
       "      <td>1</td>\n",
       "      <td>15634602</td>\n",
       "      <td>Hargrave</td>\n",
       "      <td>619</td>\n",
       "      <td>France</td>\n",
       "      <td>Female</td>\n",
       "      <td>42.0</td>\n",
       "      <td>2</td>\n",
       "      <td>0.0</td>\n",
       "      <td>1</td>\n",
       "      <td>1.0</td>\n",
       "      <td>1.0</td>\n",
       "      <td>101348.88</td>\n",
       "      <td>1</td>\n",
       "    </tr>\n",
       "  </tbody>\n",
       "</table>\n",
       "</div>"
      ],
      "text/plain": [
       "   RowNumber  CustomerId   Surname  CreditScore Geography  Gender   Age  \\\n",
       "0          1    15634602  Hargrave          619    France  Female  42.0   \n",
       "\n",
       "   Tenure  Balance  NumOfProducts  HasCrCard  IsActiveMember  EstimatedSalary  \\\n",
       "0       2      0.0              1        1.0             1.0        101348.88   \n",
       "\n",
       "   Exited  \n",
       "0       1  "
      ]
     },
     "execution_count": 15,
     "metadata": {},
     "output_type": "execute_result"
    }
   ],
   "source": [
    "df.head(1)"
   ]
  },
  {
   "cell_type": "code",
   "execution_count": 16,
   "id": "fd2711e1-9b2e-4494-a1f6-783f36e81cbd",
   "metadata": {},
   "outputs": [],
   "source": [
    "# Encoding of Categorical Data "
   ]
  },
  {
   "cell_type": "code",
   "execution_count": 17,
   "id": "bab58298-83c9-4678-b658-19bc9c8a039c",
   "metadata": {},
   "outputs": [],
   "source": [
    "# 1.) Using Map: We use map function for encoding the Sex and Homeownership_Status columns.\n",
    "\n",
    "df['Gender'] = df['Gender'].map({\"Male\":0, \"Female\":1})"
   ]
  },
  {
   "cell_type": "code",
   "execution_count": 18,
   "id": "d7ba54c6-ac17-4b45-bb46-7e3129a6dd35",
   "metadata": {},
   "outputs": [],
   "source": [
    "# 2.) Using Label Encode: We use LabelEncoder for Geography\n",
    "\n",
    "from sklearn.preprocessing import LabelEncoder"
   ]
  },
  {
   "cell_type": "code",
   "execution_count": 19,
   "id": "a102be52-297d-43dd-87a3-375ff320b750",
   "metadata": {},
   "outputs": [],
   "source": [
    "df[\"Geography\"] = LabelEncoder().fit_transform(df[\"Geography\"])"
   ]
  },
  {
   "cell_type": "code",
   "execution_count": 20,
   "id": "6254d6a9-a3ea-4d36-ab50-54fe7d5819a4",
   "metadata": {},
   "outputs": [],
   "source": [
    "# I are not doing encoding on Surname because I will not include it in my features."
   ]
  },
  {
   "cell_type": "code",
   "execution_count": 22,
   "id": "74dabc52-8db5-46bd-b2ff-955a4f7c7450",
   "metadata": {},
   "outputs": [
    {
     "data": {
      "text/html": [
       "<div>\n",
       "<style scoped>\n",
       "    .dataframe tbody tr th:only-of-type {\n",
       "        vertical-align: middle;\n",
       "    }\n",
       "\n",
       "    .dataframe tbody tr th {\n",
       "        vertical-align: top;\n",
       "    }\n",
       "\n",
       "    .dataframe thead th {\n",
       "        text-align: right;\n",
       "    }\n",
       "</style>\n",
       "<table border=\"1\" class=\"dataframe\">\n",
       "  <thead>\n",
       "    <tr style=\"text-align: right;\">\n",
       "      <th></th>\n",
       "      <th>RowNumber</th>\n",
       "      <th>CustomerId</th>\n",
       "      <th>Surname</th>\n",
       "      <th>CreditScore</th>\n",
       "      <th>Geography</th>\n",
       "      <th>Gender</th>\n",
       "      <th>Age</th>\n",
       "      <th>Tenure</th>\n",
       "      <th>Balance</th>\n",
       "      <th>NumOfProducts</th>\n",
       "      <th>HasCrCard</th>\n",
       "      <th>IsActiveMember</th>\n",
       "      <th>EstimatedSalary</th>\n",
       "      <th>Exited</th>\n",
       "    </tr>\n",
       "  </thead>\n",
       "  <tbody>\n",
       "    <tr>\n",
       "      <th>0</th>\n",
       "      <td>1</td>\n",
       "      <td>15634602</td>\n",
       "      <td>Hargrave</td>\n",
       "      <td>619</td>\n",
       "      <td>0</td>\n",
       "      <td>1</td>\n",
       "      <td>42.0</td>\n",
       "      <td>2</td>\n",
       "      <td>0.00</td>\n",
       "      <td>1</td>\n",
       "      <td>1.0</td>\n",
       "      <td>1.0</td>\n",
       "      <td>101348.88</td>\n",
       "      <td>1</td>\n",
       "    </tr>\n",
       "    <tr>\n",
       "      <th>1</th>\n",
       "      <td>2</td>\n",
       "      <td>15647311</td>\n",
       "      <td>Hill</td>\n",
       "      <td>608</td>\n",
       "      <td>2</td>\n",
       "      <td>1</td>\n",
       "      <td>41.0</td>\n",
       "      <td>1</td>\n",
       "      <td>83807.86</td>\n",
       "      <td>1</td>\n",
       "      <td>0.0</td>\n",
       "      <td>1.0</td>\n",
       "      <td>112542.58</td>\n",
       "      <td>0</td>\n",
       "    </tr>\n",
       "    <tr>\n",
       "      <th>2</th>\n",
       "      <td>3</td>\n",
       "      <td>15619304</td>\n",
       "      <td>Onio</td>\n",
       "      <td>502</td>\n",
       "      <td>0</td>\n",
       "      <td>1</td>\n",
       "      <td>42.0</td>\n",
       "      <td>8</td>\n",
       "      <td>159660.80</td>\n",
       "      <td>3</td>\n",
       "      <td>1.0</td>\n",
       "      <td>0.0</td>\n",
       "      <td>113931.57</td>\n",
       "      <td>1</td>\n",
       "    </tr>\n",
       "    <tr>\n",
       "      <th>3</th>\n",
       "      <td>4</td>\n",
       "      <td>15701354</td>\n",
       "      <td>Boni</td>\n",
       "      <td>699</td>\n",
       "      <td>0</td>\n",
       "      <td>1</td>\n",
       "      <td>39.0</td>\n",
       "      <td>1</td>\n",
       "      <td>0.00</td>\n",
       "      <td>2</td>\n",
       "      <td>0.0</td>\n",
       "      <td>0.0</td>\n",
       "      <td>93826.63</td>\n",
       "      <td>0</td>\n",
       "    </tr>\n",
       "    <tr>\n",
       "      <th>5</th>\n",
       "      <td>6</td>\n",
       "      <td>15574012</td>\n",
       "      <td>Chu</td>\n",
       "      <td>645</td>\n",
       "      <td>2</td>\n",
       "      <td>0</td>\n",
       "      <td>44.0</td>\n",
       "      <td>8</td>\n",
       "      <td>113755.78</td>\n",
       "      <td>2</td>\n",
       "      <td>1.0</td>\n",
       "      <td>0.0</td>\n",
       "      <td>149756.71</td>\n",
       "      <td>1</td>\n",
       "    </tr>\n",
       "  </tbody>\n",
       "</table>\n",
       "</div>"
      ],
      "text/plain": [
       "   RowNumber  CustomerId   Surname  CreditScore  Geography  Gender   Age  \\\n",
       "0          1    15634602  Hargrave          619          0       1  42.0   \n",
       "1          2    15647311      Hill          608          2       1  41.0   \n",
       "2          3    15619304      Onio          502          0       1  42.0   \n",
       "3          4    15701354      Boni          699          0       1  39.0   \n",
       "5          6    15574012       Chu          645          2       0  44.0   \n",
       "\n",
       "   Tenure    Balance  NumOfProducts  HasCrCard  IsActiveMember  \\\n",
       "0       2       0.00              1        1.0             1.0   \n",
       "1       1   83807.86              1        0.0             1.0   \n",
       "2       8  159660.80              3        1.0             0.0   \n",
       "3       1       0.00              2        0.0             0.0   \n",
       "5       8  113755.78              2        1.0             0.0   \n",
       "\n",
       "   EstimatedSalary  Exited  \n",
       "0        101348.88       1  \n",
       "1        112542.58       0  \n",
       "2        113931.57       1  \n",
       "3         93826.63       0  \n",
       "5        149756.71       1  "
      ]
     },
     "execution_count": 22,
     "metadata": {},
     "output_type": "execute_result"
    }
   ],
   "source": [
    "df.head()"
   ]
  },
  {
   "cell_type": "code",
   "execution_count": 23,
   "id": "c92fede2-92cb-4315-8c67-b97c695b9cd2",
   "metadata": {},
   "outputs": [],
   "source": [
    "# Normalization\n",
    "\n",
    "# We will normalize the column Age, CreditScore, Balance, Tenure, NumOfProducts and EstimatedSalary in the range of 0 to 1."
   ]
  },
  {
   "cell_type": "code",
   "execution_count": 24,
   "id": "68addb8b-45f7-49e4-b743-7608b6ce6ef4",
   "metadata": {},
   "outputs": [],
   "source": [
    "# Importing MinMaxScaler for data preprocessing\n",
    "\n",
    "from sklearn.preprocessing import MinMaxScaler"
   ]
  },
  {
   "cell_type": "code",
   "execution_count": 25,
   "id": "b6579683-f2f8-4573-a9cc-4898a404df95",
   "metadata": {},
   "outputs": [],
   "source": [
    "# Normalizing the Age, CreditScore, Balance, Tenure, NumOfProducts and EstimatedSalary columns.\n",
    "\n",
    "df[\"CreditScore\"] = MinMaxScaler().fit_transform(df[[\"CreditScore\"]])\n",
    "df[\"Age\"] = MinMaxScaler().fit_transform(df[[\"Age\"]])\n",
    "df[\"Tenure\"] = MinMaxScaler().fit_transform(df[[\"Tenure\"]])\n",
    "df[\"Balance\"] = MinMaxScaler().fit_transform(df[[\"Balance\"]])\n",
    "df[\"NumOfProducts\"] = MinMaxScaler().fit_transform(df[[\"NumOfProducts\"]])\n",
    "df[\"EstimatedSalary\"] = MinMaxScaler().fit_transform(df[[\"EstimatedSalary\"]])"
   ]
  },
  {
   "cell_type": "code",
   "execution_count": 26,
   "id": "142ecbff-ff0c-4c3d-adb7-571c2ae1b13f",
   "metadata": {},
   "outputs": [
    {
     "data": {
      "text/html": [
       "<div>\n",
       "<style scoped>\n",
       "    .dataframe tbody tr th:only-of-type {\n",
       "        vertical-align: middle;\n",
       "    }\n",
       "\n",
       "    .dataframe tbody tr th {\n",
       "        vertical-align: top;\n",
       "    }\n",
       "\n",
       "    .dataframe thead th {\n",
       "        text-align: right;\n",
       "    }\n",
       "</style>\n",
       "<table border=\"1\" class=\"dataframe\">\n",
       "  <thead>\n",
       "    <tr style=\"text-align: right;\">\n",
       "      <th></th>\n",
       "      <th>RowNumber</th>\n",
       "      <th>CustomerId</th>\n",
       "      <th>Surname</th>\n",
       "      <th>CreditScore</th>\n",
       "      <th>Geography</th>\n",
       "      <th>Gender</th>\n",
       "      <th>Age</th>\n",
       "      <th>Tenure</th>\n",
       "      <th>Balance</th>\n",
       "      <th>NumOfProducts</th>\n",
       "      <th>HasCrCard</th>\n",
       "      <th>IsActiveMember</th>\n",
       "      <th>EstimatedSalary</th>\n",
       "      <th>Exited</th>\n",
       "    </tr>\n",
       "  </thead>\n",
       "  <tbody>\n",
       "    <tr>\n",
       "      <th>0</th>\n",
       "      <td>1</td>\n",
       "      <td>15634602</td>\n",
       "      <td>Hargrave</td>\n",
       "      <td>0.538</td>\n",
       "      <td>0</td>\n",
       "      <td>1</td>\n",
       "      <td>0.324324</td>\n",
       "      <td>0.2</td>\n",
       "      <td>0.000000</td>\n",
       "      <td>0.000000</td>\n",
       "      <td>1.0</td>\n",
       "      <td>1.0</td>\n",
       "      <td>0.506735</td>\n",
       "      <td>1</td>\n",
       "    </tr>\n",
       "    <tr>\n",
       "      <th>1</th>\n",
       "      <td>2</td>\n",
       "      <td>15647311</td>\n",
       "      <td>Hill</td>\n",
       "      <td>0.516</td>\n",
       "      <td>2</td>\n",
       "      <td>1</td>\n",
       "      <td>0.310811</td>\n",
       "      <td>0.1</td>\n",
       "      <td>0.334031</td>\n",
       "      <td>0.000000</td>\n",
       "      <td>0.0</td>\n",
       "      <td>1.0</td>\n",
       "      <td>0.562709</td>\n",
       "      <td>0</td>\n",
       "    </tr>\n",
       "    <tr>\n",
       "      <th>2</th>\n",
       "      <td>3</td>\n",
       "      <td>15619304</td>\n",
       "      <td>Onio</td>\n",
       "      <td>0.304</td>\n",
       "      <td>0</td>\n",
       "      <td>1</td>\n",
       "      <td>0.324324</td>\n",
       "      <td>0.8</td>\n",
       "      <td>0.636357</td>\n",
       "      <td>0.666667</td>\n",
       "      <td>1.0</td>\n",
       "      <td>0.0</td>\n",
       "      <td>0.569654</td>\n",
       "      <td>1</td>\n",
       "    </tr>\n",
       "    <tr>\n",
       "      <th>3</th>\n",
       "      <td>4</td>\n",
       "      <td>15701354</td>\n",
       "      <td>Boni</td>\n",
       "      <td>0.698</td>\n",
       "      <td>0</td>\n",
       "      <td>1</td>\n",
       "      <td>0.283784</td>\n",
       "      <td>0.1</td>\n",
       "      <td>0.000000</td>\n",
       "      <td>0.333333</td>\n",
       "      <td>0.0</td>\n",
       "      <td>0.0</td>\n",
       "      <td>0.469120</td>\n",
       "      <td>0</td>\n",
       "    </tr>\n",
       "    <tr>\n",
       "      <th>5</th>\n",
       "      <td>6</td>\n",
       "      <td>15574012</td>\n",
       "      <td>Chu</td>\n",
       "      <td>0.590</td>\n",
       "      <td>2</td>\n",
       "      <td>0</td>\n",
       "      <td>0.351351</td>\n",
       "      <td>0.8</td>\n",
       "      <td>0.453394</td>\n",
       "      <td>0.333333</td>\n",
       "      <td>1.0</td>\n",
       "      <td>0.0</td>\n",
       "      <td>0.748797</td>\n",
       "      <td>1</td>\n",
       "    </tr>\n",
       "  </tbody>\n",
       "</table>\n",
       "</div>"
      ],
      "text/plain": [
       "   RowNumber  CustomerId   Surname  CreditScore  Geography  Gender       Age  \\\n",
       "0          1    15634602  Hargrave        0.538          0       1  0.324324   \n",
       "1          2    15647311      Hill        0.516          2       1  0.310811   \n",
       "2          3    15619304      Onio        0.304          0       1  0.324324   \n",
       "3          4    15701354      Boni        0.698          0       1  0.283784   \n",
       "5          6    15574012       Chu        0.590          2       0  0.351351   \n",
       "\n",
       "   Tenure   Balance  NumOfProducts  HasCrCard  IsActiveMember  \\\n",
       "0     0.2  0.000000       0.000000        1.0             1.0   \n",
       "1     0.1  0.334031       0.000000        0.0             1.0   \n",
       "2     0.8  0.636357       0.666667        1.0             0.0   \n",
       "3     0.1  0.000000       0.333333        0.0             0.0   \n",
       "5     0.8  0.453394       0.333333        1.0             0.0   \n",
       "\n",
       "   EstimatedSalary  Exited  \n",
       "0         0.506735       1  \n",
       "1         0.562709       0  \n",
       "2         0.569654       1  \n",
       "3         0.469120       0  \n",
       "5         0.748797       1  "
      ]
     },
     "execution_count": 26,
     "metadata": {},
     "output_type": "execute_result"
    }
   ],
   "source": [
    "df.head()"
   ]
  },
  {
   "cell_type": "code",
   "execution_count": 27,
   "id": "c76cf59b-4124-46d6-a661-720beef1a323",
   "metadata": {},
   "outputs": [],
   "source": [
    "# We will separate the Feature Varible and Target Variable\n",
    "\n",
    "features = [\"CreditScore\", \"Geography\", \"Gender\", \"Age\", \"Tenure\", \"Balance\", \"NumOfProducts\", \"HasCrCard\", \"IsActiveMember\", \"EstimatedSalary\"]\n",
    "X = df[features].values\n",
    "Y = df[\"Exited\"].values"
   ]
  },
  {
   "cell_type": "code",
   "execution_count": 28,
   "id": "0142521f-bdf3-404b-b1b4-81043e88f942",
   "metadata": {},
   "outputs": [
    {
     "data": {
      "text/html": [
       "<div>\n",
       "<style scoped>\n",
       "    .dataframe tbody tr th:only-of-type {\n",
       "        vertical-align: middle;\n",
       "    }\n",
       "\n",
       "    .dataframe tbody tr th {\n",
       "        vertical-align: top;\n",
       "    }\n",
       "\n",
       "    .dataframe thead th {\n",
       "        text-align: right;\n",
       "    }\n",
       "</style>\n",
       "<table border=\"1\" class=\"dataframe\">\n",
       "  <thead>\n",
       "    <tr style=\"text-align: right;\">\n",
       "      <th></th>\n",
       "      <th>CreditScore</th>\n",
       "      <th>Geography</th>\n",
       "      <th>Gender</th>\n",
       "      <th>Age</th>\n",
       "      <th>Tenure</th>\n",
       "      <th>Balance</th>\n",
       "      <th>NumOfProducts</th>\n",
       "      <th>HasCrCard</th>\n",
       "      <th>IsActiveMember</th>\n",
       "      <th>EstimatedSalary</th>\n",
       "    </tr>\n",
       "  </thead>\n",
       "  <tbody>\n",
       "    <tr>\n",
       "      <th>0</th>\n",
       "      <td>0.538</td>\n",
       "      <td>0</td>\n",
       "      <td>1</td>\n",
       "      <td>0.324324</td>\n",
       "      <td>0.2</td>\n",
       "      <td>0.000000</td>\n",
       "      <td>0.000000</td>\n",
       "      <td>1.0</td>\n",
       "      <td>1.0</td>\n",
       "      <td>0.506735</td>\n",
       "    </tr>\n",
       "    <tr>\n",
       "      <th>1</th>\n",
       "      <td>0.516</td>\n",
       "      <td>2</td>\n",
       "      <td>1</td>\n",
       "      <td>0.310811</td>\n",
       "      <td>0.1</td>\n",
       "      <td>0.334031</td>\n",
       "      <td>0.000000</td>\n",
       "      <td>0.0</td>\n",
       "      <td>1.0</td>\n",
       "      <td>0.562709</td>\n",
       "    </tr>\n",
       "    <tr>\n",
       "      <th>2</th>\n",
       "      <td>0.304</td>\n",
       "      <td>0</td>\n",
       "      <td>1</td>\n",
       "      <td>0.324324</td>\n",
       "      <td>0.8</td>\n",
       "      <td>0.636357</td>\n",
       "      <td>0.666667</td>\n",
       "      <td>1.0</td>\n",
       "      <td>0.0</td>\n",
       "      <td>0.569654</td>\n",
       "    </tr>\n",
       "    <tr>\n",
       "      <th>3</th>\n",
       "      <td>0.698</td>\n",
       "      <td>0</td>\n",
       "      <td>1</td>\n",
       "      <td>0.283784</td>\n",
       "      <td>0.1</td>\n",
       "      <td>0.000000</td>\n",
       "      <td>0.333333</td>\n",
       "      <td>0.0</td>\n",
       "      <td>0.0</td>\n",
       "      <td>0.469120</td>\n",
       "    </tr>\n",
       "    <tr>\n",
       "      <th>5</th>\n",
       "      <td>0.590</td>\n",
       "      <td>2</td>\n",
       "      <td>0</td>\n",
       "      <td>0.351351</td>\n",
       "      <td>0.8</td>\n",
       "      <td>0.453394</td>\n",
       "      <td>0.333333</td>\n",
       "      <td>1.0</td>\n",
       "      <td>0.0</td>\n",
       "      <td>0.748797</td>\n",
       "    </tr>\n",
       "    <tr>\n",
       "      <th>...</th>\n",
       "      <td>...</td>\n",
       "      <td>...</td>\n",
       "      <td>...</td>\n",
       "      <td>...</td>\n",
       "      <td>...</td>\n",
       "      <td>...</td>\n",
       "      <td>...</td>\n",
       "      <td>...</td>\n",
       "      <td>...</td>\n",
       "      <td>...</td>\n",
       "    </tr>\n",
       "    <tr>\n",
       "      <th>9997</th>\n",
       "      <td>0.718</td>\n",
       "      <td>0</td>\n",
       "      <td>1</td>\n",
       "      <td>0.243243</td>\n",
       "      <td>0.7</td>\n",
       "      <td>0.000000</td>\n",
       "      <td>0.000000</td>\n",
       "      <td>0.0</td>\n",
       "      <td>1.0</td>\n",
       "      <td>0.210390</td>\n",
       "    </tr>\n",
       "    <tr>\n",
       "      <th>9998</th>\n",
       "      <td>0.844</td>\n",
       "      <td>1</td>\n",
       "      <td>0</td>\n",
       "      <td>0.324324</td>\n",
       "      <td>0.3</td>\n",
       "      <td>0.299226</td>\n",
       "      <td>0.333333</td>\n",
       "      <td>1.0</td>\n",
       "      <td>0.0</td>\n",
       "      <td>0.464429</td>\n",
       "    </tr>\n",
       "    <tr>\n",
       "      <th>9999</th>\n",
       "      <td>0.844</td>\n",
       "      <td>1</td>\n",
       "      <td>0</td>\n",
       "      <td>0.324324</td>\n",
       "      <td>0.3</td>\n",
       "      <td>0.299226</td>\n",
       "      <td>0.333333</td>\n",
       "      <td>1.0</td>\n",
       "      <td>0.0</td>\n",
       "      <td>0.464429</td>\n",
       "    </tr>\n",
       "    <tr>\n",
       "      <th>10000</th>\n",
       "      <td>0.884</td>\n",
       "      <td>0</td>\n",
       "      <td>1</td>\n",
       "      <td>0.135135</td>\n",
       "      <td>0.4</td>\n",
       "      <td>0.518708</td>\n",
       "      <td>0.000000</td>\n",
       "      <td>1.0</td>\n",
       "      <td>0.0</td>\n",
       "      <td>0.190914</td>\n",
       "    </tr>\n",
       "    <tr>\n",
       "      <th>10001</th>\n",
       "      <td>0.884</td>\n",
       "      <td>0</td>\n",
       "      <td>1</td>\n",
       "      <td>0.135135</td>\n",
       "      <td>0.4</td>\n",
       "      <td>0.518708</td>\n",
       "      <td>0.000000</td>\n",
       "      <td>1.0</td>\n",
       "      <td>0.0</td>\n",
       "      <td>0.190914</td>\n",
       "    </tr>\n",
       "  </tbody>\n",
       "</table>\n",
       "<p>9998 rows × 10 columns</p>\n",
       "</div>"
      ],
      "text/plain": [
       "       CreditScore  Geography  Gender       Age  Tenure   Balance  \\\n",
       "0            0.538          0       1  0.324324     0.2  0.000000   \n",
       "1            0.516          2       1  0.310811     0.1  0.334031   \n",
       "2            0.304          0       1  0.324324     0.8  0.636357   \n",
       "3            0.698          0       1  0.283784     0.1  0.000000   \n",
       "5            0.590          2       0  0.351351     0.8  0.453394   \n",
       "...            ...        ...     ...       ...     ...       ...   \n",
       "9997         0.718          0       1  0.243243     0.7  0.000000   \n",
       "9998         0.844          1       0  0.324324     0.3  0.299226   \n",
       "9999         0.844          1       0  0.324324     0.3  0.299226   \n",
       "10000        0.884          0       1  0.135135     0.4  0.518708   \n",
       "10001        0.884          0       1  0.135135     0.4  0.518708   \n",
       "\n",
       "       NumOfProducts  HasCrCard  IsActiveMember  EstimatedSalary  \n",
       "0           0.000000        1.0             1.0         0.506735  \n",
       "1           0.000000        0.0             1.0         0.562709  \n",
       "2           0.666667        1.0             0.0         0.569654  \n",
       "3           0.333333        0.0             0.0         0.469120  \n",
       "5           0.333333        1.0             0.0         0.748797  \n",
       "...              ...        ...             ...              ...  \n",
       "9997        0.000000        0.0             1.0         0.210390  \n",
       "9998        0.333333        1.0             0.0         0.464429  \n",
       "9999        0.333333        1.0             0.0         0.464429  \n",
       "10000       0.000000        1.0             0.0         0.190914  \n",
       "10001       0.000000        1.0             0.0         0.190914  \n",
       "\n",
       "[9998 rows x 10 columns]"
      ]
     },
     "execution_count": 28,
     "metadata": {},
     "output_type": "execute_result"
    }
   ],
   "source": [
    "# Displaying features columns \n",
    "\n",
    "df[features]"
   ]
  },
  {
   "cell_type": "code",
   "execution_count": 29,
   "id": "78e52a90-bde1-4653-b089-97da3d97d595",
   "metadata": {},
   "outputs": [
    {
     "data": {
      "text/plain": [
       "array([[0.538     , 0.        , 1.        , ..., 1.        , 1.        ,\n",
       "        0.50673489],\n",
       "       [0.516     , 2.        , 1.        , ..., 0.        , 1.        ,\n",
       "        0.56270874],\n",
       "       [0.304     , 0.        , 1.        , ..., 1.        , 0.        ,\n",
       "        0.56965435],\n",
       "       ...,\n",
       "       [0.844     , 1.        , 0.        , ..., 1.        , 0.        ,\n",
       "        0.46442905],\n",
       "       [0.884     , 0.        , 1.        , ..., 1.        , 0.        ,\n",
       "        0.19091423],\n",
       "       [0.884     , 0.        , 1.        , ..., 1.        , 0.        ,\n",
       "        0.19091423]])"
      ]
     },
     "execution_count": 29,
     "metadata": {},
     "output_type": "execute_result"
    }
   ],
   "source": [
    "# Get the features variable in numpy array\n",
    "\n",
    "df[features].values"
   ]
  },
  {
   "cell_type": "code",
   "execution_count": 30,
   "id": "f965310b-0201-4e3f-8bdb-9b36d0ad3a24",
   "metadata": {},
   "outputs": [],
   "source": [
    "# Now, Let's train the model\n",
    "\n",
    "from sklearn.model_selection import train_test_split"
   ]
  },
  {
   "cell_type": "code",
   "execution_count": 31,
   "id": "b1af5f0f-a860-4981-8790-7c977320620e",
   "metadata": {},
   "outputs": [],
   "source": [
    "# Split the data in 70% and 30% for training and testing the model\n",
    "\n",
    "X_train, X_test, Y_train, Y_test = train_test_split(X, Y, test_size = 0.03)"
   ]
  },
  {
   "cell_type": "code",
   "execution_count": 32,
   "id": "c83c7600-336c-4eb4-8ecb-debc262f09f1",
   "metadata": {},
   "outputs": [],
   "source": [
    "# Algorithms abbrevations full form\n",
    "\n",
    "# LOR: Logistic Regression\n",
    "# KNN: K-Nearest Neighbour\n",
    "# DT: Decision Tree\n",
    "# RF: Random Forest\n",
    "# GB: Gradient Boosting\n",
    "# XGB: Extreme Gradient Boosting"
   ]
  },
  {
   "cell_type": "code",
   "execution_count": 33,
   "id": "7c9c1210-acee-4dec-b450-99004291c606",
   "metadata": {},
   "outputs": [],
   "source": [
    "# In this we are using the LOR, KNN, DT, RF, GB and XGB alogorithm for taining the model\n",
    "\n",
    "from sklearn.linear_model import LogisticRegression \n",
    "from sklearn.neighbors import KNeighborsClassifier \n",
    "from sklearn.tree import DecisionTreeClassifier\n",
    "from sklearn.ensemble import RandomForestClassifier\n",
    "from sklearn.ensemble import GradientBoostingClassifier\n",
    "import xgboost as xgb"
   ]
  },
  {
   "cell_type": "code",
   "execution_count": 34,
   "id": "614c3d35-84fd-446b-b5a1-a3d461bae47d",
   "metadata": {},
   "outputs": [],
   "source": [
    "# Here we are creating a model and training the model\n",
    "\n",
    "model_LOR = LogisticRegression(max_iter=500).fit(X_train, Y_train) \n",
    "model_KNN = KNeighborsClassifier(n_neighbors=12).fit(X_train, Y_train)\n",
    "model_DT = DecisionTreeClassifier().fit(X_train, Y_train)\n",
    "model_RF = RandomForestClassifier().fit(X_train, Y_train)\n",
    "model_GB = GradientBoostingClassifier(n_estimators=100, random_state=42).fit(X_train, Y_train)\n",
    "model_XGB = xgb.XGBClassifier().fit(X_train, Y_train)"
   ]
  },
  {
   "cell_type": "code",
   "execution_count": 35,
   "id": "b0b4cf8d-2dba-48c7-ac5c-e13ab00dcda2",
   "metadata": {},
   "outputs": [],
   "source": [
    "# Predicting the Test set results\n",
    "\n",
    "Y_pred_LOR = model_LOR.predict(X_test)\n",
    "Y_pred_KNN = model_KNN.predict(X_test)\n",
    "Y_pred_DT = model_DT.predict(X_test)\n",
    "Y_pred_RF = model_RF.predict(X_test)\n",
    "Y_pred_GB = model_GB.predict(X_test)\n",
    "Y_pred_XGB = model_XGB.predict(X_test)"
   ]
  },
  {
   "cell_type": "code",
   "execution_count": 36,
   "id": "e57328c4-30fc-456a-b15a-069e297a113f",
   "metadata": {},
   "outputs": [],
   "source": [
    "# Importing accuracy_score from sklearn.metrics\n",
    "\n",
    "from sklearn.metrics import accuracy_score"
   ]
  },
  {
   "cell_type": "code",
   "execution_count": 53,
   "id": "9fd7244b-5ba8-4b95-a85d-ac86e7ff7d16",
   "metadata": {},
   "outputs": [],
   "source": [
    "# Calculating the model accuracy\n",
    "# accuracy_score: It is ratio of number of correct output and total number of output\n",
    "\n",
    "acc_LOR = accuracy_score(Y_test, Y_pred_LOR)*100\n",
    "acc_KNN = accuracy_score(Y_test, Y_pred_KNN)*100\n",
    "acc_DT = accuracy_score(Y_test, Y_pred_DT)*100\n",
    "acc_RF = accuracy_score(Y_test, Y_pred_RF)*100\n",
    "acc_GB = accuracy_score(Y_test, Y_pred_GB)*100\n",
    "acc_XGB = accuracy_score(Y_test, Y_pred_XGB)*100"
   ]
  },
  {
   "cell_type": "code",
   "execution_count": 54,
   "id": "3fdd4ef5-98da-4d63-b84f-c2e242505819",
   "metadata": {},
   "outputs": [
    {
     "name": "stdout",
     "output_type": "stream",
     "text": [
      "The accuracy for LOR is:  79.0\n",
      "The accuracy for KNN is:  83.33333333333334\n",
      "The accuracy for Decision Tree is:  77.33333333333333\n",
      "The accuracy for Random Forest is:  86.66666666666667\n",
      "The accuracy for Gradient Boosting is:  86.33333333333333\n",
      "The accuracy for Extreme Gradient Boosting is:  85.0\n"
     ]
    }
   ],
   "source": [
    "# Printing the accuracy of all algorithms\n",
    "\n",
    "print(\"The accuracy for LOR is: \", acc_LOR)\n",
    "print(\"The accuracy for KNN is: \", acc_KNN)\n",
    "print(\"The accuracy for Decision Tree is: \", acc_DT)\n",
    "print(\"The accuracy for Random Forest is: \", acc_RF)\n",
    "print(\"The accuracy for Gradient Boosting is: \", acc_GB)\n",
    "print(\"The accuracy for Extreme Gradient Boosting is: \", acc_XGB)"
   ]
  },
  {
   "cell_type": "code",
   "execution_count": 55,
   "id": "b1e009f9-beb9-4025-9e54-50bf997e7232",
   "metadata": {},
   "outputs": [],
   "source": [
    "# Importing precision_score, recall_score and f1_score\n",
    "\n",
    "from sklearn.metrics import precision_score, recall_score, f1_score"
   ]
  },
  {
   "cell_type": "code",
   "execution_count": 56,
   "id": "eeab0b32-dc12-4ac0-9523-13229ce6de09",
   "metadata": {},
   "outputs": [],
   "source": [
    "# Calculating the model precision_score, recall_score and f1_score values for LOR\n",
    "\n",
    "precision_LOR = precision_score(Y_test, Y_pred_LOR)\n",
    "recall_LOR = recall_score(Y_test, Y_pred_LOR)\n",
    "f1_LOR = f1_score(Y_test, Y_pred_LOR)"
   ]
  },
  {
   "cell_type": "code",
   "execution_count": 57,
   "id": "31a32f42-6c39-426b-91c3-85f3d49e09e4",
   "metadata": {},
   "outputs": [
    {
     "name": "stdout",
     "output_type": "stream",
     "text": [
      "Precision of LOR: 30.0\n",
      "Recall of LOR: 5.084745762711865\n",
      "F1 Score of LOR: 8.695652173913043\n"
     ]
    }
   ],
   "source": [
    "# Printing the precision_score, recall_score and f1_score values for LOR algorithms\n",
    "\n",
    "print(\"Precision of LOR:\", precision_LOR*100)\n",
    "print(\"Recall of LOR:\", recall_LOR*100)\n",
    "print(\"F1 Score of LOR:\", f1_LOR*100)"
   ]
  },
  {
   "cell_type": "code",
   "execution_count": 58,
   "id": "76ca5372-8760-461a-b840-a95d9d6b27e7",
   "metadata": {},
   "outputs": [],
   "source": [
    "# Calculating the model precision_score, recall_score and f1_score values for KNN\n",
    "\n",
    "precision_KNN = precision_score(Y_test, Y_pred_KNN, zero_division=1)\n",
    "recall_KNN = recall_score(Y_test, Y_pred_KNN, zero_division=1)\n",
    "f1_KNN = f1_score(Y_test, Y_pred_KNN, zero_division=1)\n"
   ]
  },
  {
   "cell_type": "code",
   "execution_count": 59,
   "id": "8f009f96-662c-47c2-bfbc-7239879619ee",
   "metadata": {},
   "outputs": [
    {
     "name": "stdout",
     "output_type": "stream",
     "text": [
      "Precision of KNN: 76.47058823529412\n",
      "Recall of KNN: 22.033898305084744\n",
      "F1 Score of KNN: 34.210526315789465\n"
     ]
    }
   ],
   "source": [
    "# Printing the precision_score, recall_score and f1_score values for KNN algorithms\n",
    "\n",
    "print(\"Precision of KNN:\", precision_KNN*100)\n",
    "print(\"Recall of KNN:\", recall_KNN*100)\n",
    "print(\"F1 Score of KNN:\", f1_KNN*100)"
   ]
  },
  {
   "cell_type": "code",
   "execution_count": 60,
   "id": "482f463c-c8f0-4fd6-afa3-29c28146b1cf",
   "metadata": {},
   "outputs": [],
   "source": [
    "# Calculating the model precision_score, recall_score and f1_score values for DT\n",
    "\n",
    "precision_DT = precision_score(Y_test, Y_pred_DT)\n",
    "recall_DT = recall_score(Y_test, Y_pred_DT)\n",
    "f1_DT = f1_score(Y_test, Y_pred_DT)"
   ]
  },
  {
   "cell_type": "code",
   "execution_count": 61,
   "id": "f178fa0b-e29d-42d3-80d6-371e4112e322",
   "metadata": {},
   "outputs": [
    {
     "name": "stdout",
     "output_type": "stream",
     "text": [
      "Precision of DT: 42.857142857142854\n",
      "Recall of DT: 45.76271186440678\n",
      "F1 Score of DT: 44.26229508196722\n"
     ]
    }
   ],
   "source": [
    "# Printing the precision_score, recall_score and f1_score values for DT algorithms\n",
    "\n",
    "print(\"Precision of DT:\", precision_DT*100)\n",
    "print(\"Recall of DT:\", recall_DT*100)   \n",
    "print(\"F1 Score of DT:\", f1_DT*100)"
   ]
  },
  {
   "cell_type": "code",
   "execution_count": 62,
   "id": "443a58cf-60f7-4713-b538-c04ebe6e7297",
   "metadata": {},
   "outputs": [],
   "source": [
    "# Calculating the model precision_score, recall_score and f1_score values for RF\n",
    "\n",
    "precision_RF = precision_score(Y_test, Y_pred_RF)\n",
    "recall_RF = recall_score(Y_test, Y_pred_RF)\n",
    "f1_RF = f1_score(Y_test, Y_pred_RF)"
   ]
  },
  {
   "cell_type": "code",
   "execution_count": 63,
   "id": "2f759ad9-cb72-4122-8b7f-dcfdeeb9216f",
   "metadata": {},
   "outputs": [
    {
     "name": "stdout",
     "output_type": "stream",
     "text": [
      "Precision of RF: 80.64516129032258\n",
      "Recall of RF: 42.3728813559322\n",
      "F1 Score of RF: 55.55555555555555\n"
     ]
    }
   ],
   "source": [
    "# Printing the precision_score, recall_score and f1_score values for RF algorithms\n",
    "\n",
    "print(\"Precision of RF:\", precision_RF*100)\n",
    "print(\"Recall of RF:\", recall_RF*100)\n",
    "print(\"F1 Score of RF:\", f1_RF*100)"
   ]
  },
  {
   "cell_type": "code",
   "execution_count": 64,
   "id": "98a6d82b-76b8-4289-ab98-72b2d1dcd2d3",
   "metadata": {},
   "outputs": [],
   "source": [
    "# Calculating the model precision_score, recall_score and f1_score values for GB\n",
    "\n",
    "precision_GB = precision_score(Y_test, Y_pred_GB)\n",
    "recall_GB = recall_score(Y_test, Y_pred_GB)\n",
    "f1_GB = f1_score(Y_test, Y_pred_GB)"
   ]
  },
  {
   "cell_type": "code",
   "execution_count": 65,
   "id": "cb4093c9-09ea-4307-ab92-bfb2185aac8a",
   "metadata": {},
   "outputs": [
    {
     "name": "stdout",
     "output_type": "stream",
     "text": [
      "Precision of GB: 80.0\n",
      "Recall of GB: 40.67796610169492\n",
      "F1 Score of GB: 53.93258426966292\n"
     ]
    }
   ],
   "source": [
    "# Printing the precision_score, recall_score and f1_score values for GB algorithms\n",
    "\n",
    "print(\"Precision of GB:\", precision_GB*100)\n",
    "print(\"Recall of GB:\", recall_GB*100)\n",
    "print(\"F1 Score of GB:\", f1_GB*100)"
   ]
  },
  {
   "cell_type": "code",
   "execution_count": 66,
   "id": "4110fd0e-2975-4486-942a-8197b3e2e4ed",
   "metadata": {},
   "outputs": [],
   "source": [
    "# Calculating the model precision_score, recall_score and f1_score values for XGB\n",
    "\n",
    "precision_XGB = precision_score(Y_test, Y_pred_XGB)\n",
    "recall_XGB = recall_score(Y_test, Y_pred_GB)\n",
    "f1_XGB = f1_score(Y_test, Y_pred_XGB)"
   ]
  },
  {
   "cell_type": "code",
   "execution_count": 67,
   "id": "12daf9c6-2b2b-4919-bd3d-9b188d8dd0bb",
   "metadata": {},
   "outputs": [
    {
     "name": "stdout",
     "output_type": "stream",
     "text": [
      "Precision of XGB: 69.44444444444444\n",
      "Recall of XGB: 40.67796610169492\n",
      "F1 Score of XGB: 52.63157894736842\n"
     ]
    }
   ],
   "source": [
    "# Printing the precision_score, recall_score and f1_score values for XGB algorithms\n",
    "\n",
    "print(\"Precision of XGB:\", precision_XGB*100)\n",
    "print(\"Recall of XGB:\", recall_XGB*100)\n",
    "print(\"F1 Score of XGB:\", f1_XGB*100)"
   ]
  },
  {
   "cell_type": "code",
   "execution_count": null,
   "id": "1a7a4c09-6912-45ba-9345-f7538e0843ec",
   "metadata": {},
   "outputs": [],
   "source": [
    "# Random Forest is the best choice due to:\n",
    "# Accuracy: Highest for Random Forest (86.67%).\n",
    "# Precision: Highest for Random Forest (80.65%).\n",
    "# Recall: Competitive but lower than Decision Tree (42.37%).\n",
    "# F1 Score: Highest for Random Forest (55.56%).\n",
    "# It balances well between precision and recall.\n",
    "#  It effectively handles overfitting, and performs robustly on complex data, making it ideal for predicting customer churn."
   ]
  },
  {
   "cell_type": "code",
   "execution_count": 68,
   "id": "098d5ad8-ac27-4b3f-945c-e34fecea1999",
   "metadata": {},
   "outputs": [],
   "source": [
    "# Creating some plots\n",
    "\n",
    "from matplotlib import pyplot as plt\n",
    "import seaborn as sns"
   ]
  },
  {
   "cell_type": "code",
   "execution_count": 69,
   "id": "c750f870-3cdd-461a-afd8-5054c0e0b276",
   "metadata": {},
   "outputs": [
    {
     "data": {
      "text/html": [
       "<style>#sk-container-id-1 {color: black;background-color: white;}#sk-container-id-1 pre{padding: 0;}#sk-container-id-1 div.sk-toggleable {background-color: white;}#sk-container-id-1 label.sk-toggleable__label {cursor: pointer;display: block;width: 100%;margin-bottom: 0;padding: 0.3em;box-sizing: border-box;text-align: center;}#sk-container-id-1 label.sk-toggleable__label-arrow:before {content: \"▸\";float: left;margin-right: 0.25em;color: #696969;}#sk-container-id-1 label.sk-toggleable__label-arrow:hover:before {color: black;}#sk-container-id-1 div.sk-estimator:hover label.sk-toggleable__label-arrow:before {color: black;}#sk-container-id-1 div.sk-toggleable__content {max-height: 0;max-width: 0;overflow: hidden;text-align: left;background-color: #f0f8ff;}#sk-container-id-1 div.sk-toggleable__content pre {margin: 0.2em;color: black;border-radius: 0.25em;background-color: #f0f8ff;}#sk-container-id-1 input.sk-toggleable__control:checked~div.sk-toggleable__content {max-height: 200px;max-width: 100%;overflow: auto;}#sk-container-id-1 input.sk-toggleable__control:checked~label.sk-toggleable__label-arrow:before {content: \"▾\";}#sk-container-id-1 div.sk-estimator input.sk-toggleable__control:checked~label.sk-toggleable__label {background-color: #d4ebff;}#sk-container-id-1 div.sk-label input.sk-toggleable__control:checked~label.sk-toggleable__label {background-color: #d4ebff;}#sk-container-id-1 input.sk-hidden--visually {border: 0;clip: rect(1px 1px 1px 1px);clip: rect(1px, 1px, 1px, 1px);height: 1px;margin: -1px;overflow: hidden;padding: 0;position: absolute;width: 1px;}#sk-container-id-1 div.sk-estimator {font-family: monospace;background-color: #f0f8ff;border: 1px dotted black;border-radius: 0.25em;box-sizing: border-box;margin-bottom: 0.5em;}#sk-container-id-1 div.sk-estimator:hover {background-color: #d4ebff;}#sk-container-id-1 div.sk-parallel-item::after {content: \"\";width: 100%;border-bottom: 1px solid gray;flex-grow: 1;}#sk-container-id-1 div.sk-label:hover label.sk-toggleable__label {background-color: #d4ebff;}#sk-container-id-1 div.sk-serial::before {content: \"\";position: absolute;border-left: 1px solid gray;box-sizing: border-box;top: 0;bottom: 0;left: 50%;z-index: 0;}#sk-container-id-1 div.sk-serial {display: flex;flex-direction: column;align-items: center;background-color: white;padding-right: 0.2em;padding-left: 0.2em;position: relative;}#sk-container-id-1 div.sk-item {position: relative;z-index: 1;}#sk-container-id-1 div.sk-parallel {display: flex;align-items: stretch;justify-content: center;background-color: white;position: relative;}#sk-container-id-1 div.sk-item::before, #sk-container-id-1 div.sk-parallel-item::before {content: \"\";position: absolute;border-left: 1px solid gray;box-sizing: border-box;top: 0;bottom: 0;left: 50%;z-index: -1;}#sk-container-id-1 div.sk-parallel-item {display: flex;flex-direction: column;z-index: 1;position: relative;background-color: white;}#sk-container-id-1 div.sk-parallel-item:first-child::after {align-self: flex-end;width: 50%;}#sk-container-id-1 div.sk-parallel-item:last-child::after {align-self: flex-start;width: 50%;}#sk-container-id-1 div.sk-parallel-item:only-child::after {width: 0;}#sk-container-id-1 div.sk-dashed-wrapped {border: 1px dashed gray;margin: 0 0.4em 0.5em 0.4em;box-sizing: border-box;padding-bottom: 0.4em;background-color: white;}#sk-container-id-1 div.sk-label label {font-family: monospace;font-weight: bold;display: inline-block;line-height: 1.2em;}#sk-container-id-1 div.sk-label-container {text-align: center;}#sk-container-id-1 div.sk-container {/* jupyter's `normalize.less` sets `[hidden] { display: none; }` but bootstrap.min.css set `[hidden] { display: none !important; }` so we also need the `!important` here to be able to override the default hidden behavior on the sphinx rendered scikit-learn.org. See: https://github.com/scikit-learn/scikit-learn/issues/21755 */display: inline-block !important;position: relative;}#sk-container-id-1 div.sk-text-repr-fallback {display: none;}</style><div id=\"sk-container-id-1\" class=\"sk-top-container\"><div class=\"sk-text-repr-fallback\"><pre>RandomForestClassifier()</pre><b>In a Jupyter environment, please rerun this cell to show the HTML representation or trust the notebook. <br />On GitHub, the HTML representation is unable to render, please try loading this page with nbviewer.org.</b></div><div class=\"sk-container\" hidden><div class=\"sk-item\"><div class=\"sk-estimator sk-toggleable\"><input class=\"sk-toggleable__control sk-hidden--visually\" id=\"sk-estimator-id-1\" type=\"checkbox\" checked><label for=\"sk-estimator-id-1\" class=\"sk-toggleable__label sk-toggleable__label-arrow\">RandomForestClassifier</label><div class=\"sk-toggleable__content\"><pre>RandomForestClassifier()</pre></div></div></div></div></div>"
      ],
      "text/plain": [
       "RandomForestClassifier()"
      ]
     },
     "execution_count": 69,
     "metadata": {},
     "output_type": "execute_result"
    }
   ],
   "source": [
    "model_RF"
   ]
  },
  {
   "cell_type": "code",
   "execution_count": 70,
   "id": "8aa64744-71f6-4958-9c42-83a165858630",
   "metadata": {},
   "outputs": [
    {
     "data": {
      "text/plain": [
       "'C:\\\\Users\\\\Lenovo\\\\OneDrive\\\\Desktop\\\\Juypter_projects'"
      ]
     },
     "execution_count": 70,
     "metadata": {},
     "output_type": "execute_result"
    }
   ],
   "source": [
    "pwd"
   ]
  },
  {
   "cell_type": "code",
   "execution_count": 71,
   "id": "4d90beb7-ae87-4b71-8855-816d40047726",
   "metadata": {},
   "outputs": [],
   "source": [
    "# Saving the model\n",
    "\n",
    "import joblib"
   ]
  },
  {
   "cell_type": "code",
   "execution_count": 73,
   "id": "cc4bee87-19a7-4b76-a3d7-0a7bfe170723",
   "metadata": {},
   "outputs": [
    {
     "data": {
      "text/plain": [
       "['bank_customer_churn_model.pkl']"
      ]
     },
     "execution_count": 73,
     "metadata": {},
     "output_type": "execute_result"
    }
   ],
   "source": [
    "# Save the model as pickel file\n",
    "\n",
    "joblib.dump(model_GB, \"bank_customer_churn_model.pkl\")"
   ]
  },
  {
   "cell_type": "code",
   "execution_count": 74,
   "id": "fad70f06-41b4-4472-b1c9-f72206522fa1",
   "metadata": {},
   "outputs": [],
   "source": [
    "# load the model from the file\n",
    "\n",
    "loaded_model = joblib.load(\"bank_customer_churn_model.pkl\")"
   ]
  }
 ],
 "metadata": {
  "kernelspec": {
   "display_name": "Python 3 (ipykernel)",
   "language": "python",
   "name": "python3"
  },
  "language_info": {
   "codemirror_mode": {
    "name": "ipython",
    "version": 3
   },
   "file_extension": ".py",
   "mimetype": "text/x-python",
   "name": "python",
   "nbconvert_exporter": "python",
   "pygments_lexer": "ipython3",
   "version": "3.11.2"
  }
 },
 "nbformat": 4,
 "nbformat_minor": 5
}
